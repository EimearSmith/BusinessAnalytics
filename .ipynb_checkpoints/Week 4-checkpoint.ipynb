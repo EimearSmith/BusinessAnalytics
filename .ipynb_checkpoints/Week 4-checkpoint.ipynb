{
 "cells": [
  {
   "cell_type": "code",
   "execution_count": 1,
   "id": "1ee21479",
   "metadata": {},
   "outputs": [
    {
     "ename": "SyntaxError",
     "evalue": "invalid syntax (Temp/ipykernel_8536/3330657053.py, line 1)",
     "output_type": "error",
     "traceback": [
      "\u001b[1;36m  File \u001b[1;32m\"C:\\Users\\user\\AppData\\Local\\Temp/ipykernel_8536/3330657053.py\"\u001b[1;36m, line \u001b[1;32m1\u001b[0m\n\u001b[1;33m    git diff data/northern.csv\u001b[0m\n\u001b[1;37m        ^\u001b[0m\n\u001b[1;31mSyntaxError\u001b[0m\u001b[1;31m:\u001b[0m invalid syntax\n"
     ]
    }
   ],
   "source": [
    "git diff data/northern.csv"
   ]
  },
  {
   "cell_type": "code",
   "execution_count": 1,
   "id": "2d9edde0",
   "metadata": {},
   "outputs": [
    {
     "ename": "SyntaxError",
     "evalue": "invalid syntax (Temp/ipykernel_12644/3528599804.py, line 1)",
     "output_type": "error",
     "traceback": [
      "\u001b[1;36m  File \u001b[1;32m\"C:\\Users\\user\\AppData\\Local\\Temp/ipykernel_12644/3528599804.py\"\u001b[1;36m, line \u001b[1;32m1\u001b[0m\n\u001b[1;33m    git status\u001b[0m\n\u001b[1;37m        ^\u001b[0m\n\u001b[1;31mSyntaxError\u001b[0m\u001b[1;31m:\u001b[0m invalid syntax\n"
     ]
    }
   ],
   "source": [
    "git status"
   ]
  },
  {
   "cell_type": "code",
   "execution_count": null,
   "id": "7c01a45e",
   "metadata": {},
   "outputs": [],
   "source": [
    "git diff -r HEAD\n",
    "diff --git a/data/eastern.csv b/data/eastern.csv\n",
    "index b3c1688..85053c3 100644\n",
    "--- a/data/eastern.csv\n",
    "+++ b/data/eastern.csv\n",
    "@@ -23,3 +23,4 @@ Date,Tooth\n",
    " 2017-08-02,canine\n",
    " 2017-08-03,bicuspid\n",
    " 2017-08-04,canine\n",
    "+2017-11-02,molar\n",
    "diff --git a/data/northern.csv b/data/northern.csv\n",
    "index 5eb7a96..5a2a259 100644\n",
    "--- a/data/northern.csv\n",
    "+++ b/data/northern.csv\n",
    "@@ -22,3 +22,4 @@ Date,Tooth\n",
    " 2017-08-13,incisor\n",
    " 2017-08-13,wisdom\n",
    " 2017-09-07,molar\n",
    "+2017-11-01,bicuspid"
   ]
  },
  {
   "cell_type": "code",
   "execution_count": null,
   "id": "515af9e4",
   "metadata": {},
   "outputs": [],
   "source": [
    "git diff -r HEAD data/northern.csv\n",
    "\n",
    "$ $ git diff -r HEAD data/northern.csv\n",
    "diff --git a/data/northern.csv b/data/northern.csv\n",
    "index 5eb7a96..5a2a259 100644\n",
    "--- a/data/northern.csv\n",
    "+++ b/data/northern.csv\n",
    "@@ -22,3 +22,4 @@ Date,Tooth\n",
    " 2017-08-13,incisor\n",
    " 2017-08-13,wisdom\n",
    " 2017-09-07,molar\n",
    "+2017-11-01,bicuspid"
   ]
  },
  {
   "cell_type": "code",
   "execution_count": null,
   "id": "2e4ed7b4",
   "metadata": {},
   "outputs": [],
   "source": [
    "git add data/eastern.csv"
   ]
  },
  {
   "cell_type": "code",
   "execution_count": null,
   "id": "33d359f7",
   "metadata": {},
   "outputs": [],
   "source": [
    "Interlude: how can I edit a file?\n",
    "    \n",
    "If you type nano filename, it will open filename for editing\n",
    "\n",
    "Ctrl-K: delete a line.\n",
    "Ctrl-U: un-delete a line.\n",
    "Ctrl-O: save the file ('O' stands for 'output').\n",
    "Ctrl-X: exit the editor.\n",
    "    "
   ]
  },
  {
   "cell_type": "code",
   "execution_count": null,
   "id": "880157bc",
   "metadata": {},
   "outputs": [],
   "source": [
    "git commit\n",
    "\n",
    "$ git commit --amend -m \"Adding a reference\".\n",
    "[master c992433] Adding a reference.\n",
    " Date: Thu Jul 15 17:05:49 2021 +0000\n",
    " 1 file changed, 4 insertions(+), 1 deletion(-)"
   ]
  },
  {
   "cell_type": "code",
   "execution_count": null,
   "id": "858d530e",
   "metadata": {},
   "outputs": [],
   "source": [
    "The command git log is used to view the log of the project's history"
   ]
  },
  {
   "cell_type": "code",
   "execution_count": null,
   "id": "ce58a53c",
   "metadata": {},
   "outputs": [],
   "source": [
    "git log path\n",
    "\n",
    "$ git log data/southern.csv\n",
    "commit 29a59811032295e8bb3ddbbde5bb1e0ca59fb0c6Author: Rep Loop <repl@datacamp.com>\n",
    "Date:   Thu Jul 15 17:05:49 2021 +0000\n",
    "\n",
    "    Adding fresh data for southern and western regions.\n",
    "\n",
    "commit ac3bd16fbb319b0e9b6da119ce89a9fc2c99496d\n",
    "Author: Rep Loop <repl@datacamp.com>\n",
    "Date:   Thu Jul 15 17:05:49 2021 +0000\n",
    "\n",
    "    Added seasonal CSV data files"
   ]
  },
  {
   "cell_type": "code",
   "execution_count": null,
   "id": "86d0756a",
   "metadata": {},
   "outputs": [],
   "source": [
    "$ cd dental$ git log\n",
    "commit da2604ea65c1404631c9b268c492d87654850e0fAuthor: Rep Loop <repl@datacamp.com>\n",
    "Date:   Thu Jul 15 17:05:49 2021 +0000\n",
    "\n",
    "    Added year to report title.\n",
    "\n",
    "commit bebb127aac82d90eef2145f14db83d2064128430\n",
    "Author: Rep Loop <repl@datacamp.com>\n",
    "Date:   Thu Jul 15 17:05:49 2021 +0000\n",
    "\n",
    "    Adding fresh data for western region.\n",
    "\n",
    "commit 29a59811032295e8bb3ddbbde5bb1e0ca59fb0c6\n",
    "Author: Rep Loop <repl@datacamp.com>\n",
    "Date:   Thu Jul 15 17:05:49 2021 +0000\n",
    "\n",
    "    Adding fresh data for southern and western regions.\n",
    "\n",
    "commit 899d8607826d9d0080b92e6bbb983080694b6c61\n",
    "Author: Rep Loop <repl@datacamp.com>\n",
    "Date:   Thu Jul 15 17:05:49 2021 +0000\n",
    "\n",
    "    Fixed bug and regenerated results.\n",
    "\n",
    "    1. bin/teeth was selecting column 1 instead of column 2: fixed.\n",
    "    2. Regenerated dependent results.\n",
    "\n",
    "commit afeebc985915cd00985ad646231afd79712d4f36\n",
    "Author: Rep Loop <repl@datacamp.com>\n",
    "Date:   Thu Jul 15 17:05:49 2021 +0000\n",
    "\n",
    "    Generated lists of dates and teeth for use as axis labels.\n",
    "\n",
    "commit f4116ecc98122cf3791ee5d72b088ca6673a03f5\n",
    "Author: Rep Loop <repl@datacamp.com>\n",
    "Date:   Thu Jul 15 17:05:49 2021 +0000\n",
    "\n",
    "    Added shell scripts to extract dates and teeth from data files.\n",
    "\n",
    "commit ac3bd16fbb319b0e9b6da119ce89a9fc2c99496d\n",
    "Author: Rep Loop <repl@datacamp.com>\n",
    "Date:   Thu Jul 15 17:05:49 2021 +0000\n",
    "\n",
    "    Added seasonal CSV data files\n",
    "\n",
    "commit c9414ebf8edbf7dee1f2c3a6e0a2cba7a7f8d378\n",
    "Author: Rep Loop <repl@datacamp.com>\n",
    "Date:   Thu Jul 15 17:05:49 2021 +0000\n",
    "\n",
    "    Changed title because purpose of report has changed.\n",
    "\n",
    "commit 9e9db8c2369142c84d5991f0302f90dfefd48c77\n",
    "Author: Rep Loop <repl@datacamp.com>\n",
    "Date:   Thu Jul 15 17:05:49 2021 +0000\n",
    "\n",
    "    Added reminder to cite funding sources.\n",
    "\n",
    "commit bd7bae6bfc0cfa405d28771106e9f4b4bd88a79f\n",
    "Author: Rep Loop <repl@datacamp.com>\n",
    "Date:   Thu Jul 15 17:05:49 2021 +0000\n",
    "\n",
    "    Renamed report as plain text file rather than Markdown.\n",
    "\n",
    "commit fdaadb14dc31bdd1e2c506d9e3a08f3ad3e5f6d9\n",
    "Author: Rep Loop <repl@datacamp.com>\n",
    "Date:   Thu Jul 15 17:05:49 2021 +0000\n",
    "\n",
    "    Added summary report file.\n",
    "    \n",
    "    $ git show\n",
    "commit da2604ea65c1404631c9b268c492d87654850e0f\n",
    "Author: Rep Loop <repl@datacamp.com>\n",
    "Date:   Thu Jul 15 17:05:49 2021 +0000\n",
    "\n",
    "    Added year to report title.\n",
    "\n",
    "diff --git a/report.txt b/report.txt\n",
    "index e713b17..4c0742a 100644\n",
    "--- a/report.txt\n",
    "+++ b/report.txt\n",
    "@@ -1,4 +1,4 @@\n",
    "-# Seasonal Dental Surgeries 2017-18\n",
    "+# Seasonal Dental Surgeries (2017) 2017-18\n",
    "\n",
    " TODO: write executive summary."
   ]
  },
  {
   "cell_type": "code",
   "execution_count": null,
   "id": "5b2f93a1",
   "metadata": {},
   "outputs": [],
   "source": [
    "$ cd dental$ git status\n",
    "On branch masterUntracked files:\n",
    "  (use \"git add <file>...\" to include in what will be committed)\n",
    "\n",
    "        sources.txt\n",
    "\n",
    "nothing added to commit but untracked files present (use \"git add\"to track)\n",
    "$ git add\n",
    "Nothing specified, nothing added.\n",
    "Maybe you wanted to say 'git add .'?\n",
    "$ git add sources.txt\n",
    "$ git committ --message-\"Starting to track data sources\"\n",
    "git: 'committ' is not a git command. See 'git --help'.\n",
    "\n",
    "Did you mean this?\n",
    "        commit\n",
    "$ git commit --amend -m \"Starting to track data sources.\"\n",
    "[master 51a4ad8] Starting to track data sources.\n",
    " Date: Thu Jul 15 17:05:49 2021 +0000\n",
    " 2 files changed, 2 insertions(+), 1 deletion(-)\n",
    " create mode 100644 sources.txt\n",
    "    "
   ]
  }
 ],
 "metadata": {
  "kernelspec": {
   "display_name": "Python 3 (ipykernel)",
   "language": "python",
   "name": "python3"
  },
  "language_info": {
   "codemirror_mode": {
    "name": "ipython",
    "version": 3
   },
   "file_extension": ".py",
   "mimetype": "text/x-python",
   "name": "python",
   "nbconvert_exporter": "python",
   "pygments_lexer": "ipython3",
   "version": "3.9.7"
  }
 },
 "nbformat": 4,
 "nbformat_minor": 5
}
