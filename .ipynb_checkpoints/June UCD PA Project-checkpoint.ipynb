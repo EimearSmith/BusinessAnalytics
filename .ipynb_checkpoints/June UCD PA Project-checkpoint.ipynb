{
 "cells": [
  {
   "cell_type": "code",
   "execution_count": null,
   "id": "0386974e",
   "metadata": {},
   "outputs": [],
   "source": [
    "# Importing packages that will be used for this project\n",
    "import pandas as pd\n",
    "import seaborn as sns\n",
    "import matplotlib.pyplot as plt\n",
    "import numpy as np"
   ]
  },
  {
   "cell_type": "code",
   "execution_count": 1,
   "id": "ea6874b7",
   "metadata": {},
   "outputs": [
    {
     "name": "stdout",
     "output_type": "stream",
     "text": [
      "  twitter_username  twitter_userid          domain               name  \\\n",
      "0      BarackObama        813286.0   obamabook.com        BarackObama   \n",
      "1     justinbieber      27260086.0     smarturl.it      Justin Bieber   \n",
      "2        katyperry      21447363.0   katyperry.com         KATY PERRY   \n",
      "3          rihanna      79293791.0  rihannanow.com            Rihanna   \n",
      "4        Cristiano     155659213.0             NaN  Cristiano Ronaldo   \n",
      "\n",
      "   followers_count  tweet_count  \n",
      "0       13444655.0      16467.0  \n",
      "1      114357427.0      31399.0  \n",
      "2      108900656.0      11625.0  \n",
      "3      106201663.0      10630.0  \n",
      "4       99274403.0       3780.0  \n"
     ]
    }
   ],
   "source": [
    "#Import a CSV file as a Pandas Dataframe.\n",
    "import pandas as pd\n",
    "Twitter_1000=pd.read_csv(\"Top-1000-Celebrity-Twitter-Accounts.csv\")\n",
    "print(Twitter_1000.head())"
   ]
  },
  {
   "cell_type": "code",
   "execution_count": 17,
   "id": "58b87b15",
   "metadata": {},
   "outputs": [
    {
     "data": {
      "text/plain": [
       "twitter_username      0\n",
       "twitter_userid       45\n",
       "domain              296\n",
       "name                  0\n",
       "followers_count      45\n",
       "tweet_count          45\n",
       "dtype: int64"
      ]
     },
     "execution_count": 17,
     "metadata": {},
     "output_type": "execute_result"
    }
   ],
   "source": [
    "# Next we need to count the missing values:\n",
    "Twitter_1000.isnull().sum()"
   ]
  },
  {
   "cell_type": "code",
   "execution_count": null,
   "id": "61f84c26",
   "metadata": {},
   "outputs": [],
   "source": [
    "# The above tells us that 4 of the 6 columns has missing data in them."
   ]
  },
  {
   "cell_type": "code",
   "execution_count": 18,
   "id": "a3f3337c",
   "metadata": {},
   "outputs": [
    {
     "data": {
      "text/html": [
       "<div>\n",
       "<style scoped>\n",
       "    .dataframe tbody tr th:only-of-type {\n",
       "        vertical-align: middle;\n",
       "    }\n",
       "\n",
       "    .dataframe tbody tr th {\n",
       "        vertical-align: top;\n",
       "    }\n",
       "\n",
       "    .dataframe thead th {\n",
       "        text-align: right;\n",
       "    }\n",
       "</style>\n",
       "<table border=\"1\" class=\"dataframe\">\n",
       "  <thead>\n",
       "    <tr style=\"text-align: right;\">\n",
       "      <th></th>\n",
       "      <th>twitter_username</th>\n",
       "      <th>twitter_userid</th>\n",
       "      <th>domain</th>\n",
       "      <th>name</th>\n",
       "      <th>followers_count</th>\n",
       "      <th>tweet_count</th>\n",
       "    </tr>\n",
       "  </thead>\n",
       "  <tbody>\n",
       "    <tr>\n",
       "      <th>0</th>\n",
       "      <td>BarackObama</td>\n",
       "      <td>8.132860e+05</td>\n",
       "      <td>obamabook.com</td>\n",
       "      <td>BarackObama</td>\n",
       "      <td>13444655.0</td>\n",
       "      <td>16467.0</td>\n",
       "    </tr>\n",
       "    <tr>\n",
       "      <th>1</th>\n",
       "      <td>justinbieber</td>\n",
       "      <td>2.726009e+07</td>\n",
       "      <td>smarturl.it</td>\n",
       "      <td>Justin Bieber</td>\n",
       "      <td>114357427.0</td>\n",
       "      <td>31399.0</td>\n",
       "    </tr>\n",
       "    <tr>\n",
       "      <th>2</th>\n",
       "      <td>katyperry</td>\n",
       "      <td>2.144736e+07</td>\n",
       "      <td>katyperry.com</td>\n",
       "      <td>KATY PERRY</td>\n",
       "      <td>108900656.0</td>\n",
       "      <td>11625.0</td>\n",
       "    </tr>\n",
       "    <tr>\n",
       "      <th>3</th>\n",
       "      <td>rihanna</td>\n",
       "      <td>7.929379e+07</td>\n",
       "      <td>rihannanow.com</td>\n",
       "      <td>Rihanna</td>\n",
       "      <td>106201663.0</td>\n",
       "      <td>10630.0</td>\n",
       "    </tr>\n",
       "    <tr>\n",
       "      <th>5</th>\n",
       "      <td>taylorswift13</td>\n",
       "      <td>1.791997e+07</td>\n",
       "      <td>grmypro.co</td>\n",
       "      <td>Taylor Swift</td>\n",
       "      <td>90373941.0</td>\n",
       "      <td>716.0</td>\n",
       "    </tr>\n",
       "    <tr>\n",
       "      <th>...</th>\n",
       "      <td>...</td>\n",
       "      <td>...</td>\n",
       "      <td>...</td>\n",
       "      <td>...</td>\n",
       "      <td>...</td>\n",
       "      <td>...</td>\n",
       "    </tr>\n",
       "    <tr>\n",
       "      <th>940</th>\n",
       "      <td>sherinasinna</td>\n",
       "      <td>1.329134e+18</td>\n",
       "      <td>sherinamunaf.com</td>\n",
       "      <td>Sherina Sinna</td>\n",
       "      <td>0.0</td>\n",
       "      <td>3.0</td>\n",
       "    </tr>\n",
       "    <tr>\n",
       "      <th>946</th>\n",
       "      <td>oceara</td>\n",
       "      <td>1.451339e+18</td>\n",
       "      <td>oceara.com.br</td>\n",
       "      <td>Ceará - Wellington</td>\n",
       "      <td>0.0</td>\n",
       "      <td>0.0</td>\n",
       "    </tr>\n",
       "    <tr>\n",
       "      <th>952</th>\n",
       "      <td>CasillasWorld</td>\n",
       "      <td>7.890983e+17</td>\n",
       "      <td>ikercasillasworld.com</td>\n",
       "      <td>Iker Casillas</td>\n",
       "      <td>0.0</td>\n",
       "      <td>1.0</td>\n",
       "    </tr>\n",
       "    <tr>\n",
       "      <th>954</th>\n",
       "      <td>siwon407</td>\n",
       "      <td>8.905337e+17</td>\n",
       "      <td>N407.com</td>\n",
       "      <td>SIWON CHOI</td>\n",
       "      <td>0.0</td>\n",
       "      <td>0.0</td>\n",
       "    </tr>\n",
       "    <tr>\n",
       "      <th>960</th>\n",
       "      <td>lordemusic</td>\n",
       "      <td>4.532879e+09</td>\n",
       "      <td>lordemusic.tumblr.com</td>\n",
       "      <td>Lorde</td>\n",
       "      <td>0.0</td>\n",
       "      <td>0.0</td>\n",
       "    </tr>\n",
       "  </tbody>\n",
       "</table>\n",
       "<p>663 rows × 6 columns</p>\n",
       "</div>"
      ],
      "text/plain": [
       "    twitter_username  twitter_userid                 domain  \\\n",
       "0        BarackObama    8.132860e+05          obamabook.com   \n",
       "1       justinbieber    2.726009e+07            smarturl.it   \n",
       "2          katyperry    2.144736e+07          katyperry.com   \n",
       "3            rihanna    7.929379e+07         rihannanow.com   \n",
       "5      taylorswift13    1.791997e+07             grmypro.co   \n",
       "..               ...             ...                    ...   \n",
       "940     sherinasinna    1.329134e+18       sherinamunaf.com   \n",
       "946           oceara    1.451339e+18          oceara.com.br   \n",
       "952    CasillasWorld    7.890983e+17  ikercasillasworld.com   \n",
       "954         siwon407    8.905337e+17               N407.com   \n",
       "960       lordemusic    4.532879e+09  lordemusic.tumblr.com   \n",
       "\n",
       "                   name  followers_count  tweet_count  \n",
       "0           BarackObama       13444655.0      16467.0  \n",
       "1         Justin Bieber      114357427.0      31399.0  \n",
       "2            KATY PERRY      108900656.0      11625.0  \n",
       "3               Rihanna      106201663.0      10630.0  \n",
       "5          Taylor Swift       90373941.0        716.0  \n",
       "..                  ...              ...          ...  \n",
       "940       Sherina Sinna              0.0          3.0  \n",
       "946  Ceará - Wellington              0.0          0.0  \n",
       "952       Iker Casillas              0.0          1.0  \n",
       "954          SIWON CHOI              0.0          0.0  \n",
       "960               Lorde              0.0          0.0  \n",
       "\n",
       "[663 rows x 6 columns]"
      ]
     },
     "execution_count": 18,
     "metadata": {},
     "output_type": "execute_result"
    }
   ],
   "source": [
    "# Our next task is to then clean the data.\n",
    "# First we will look to drop any rows that have missing data:\n",
    "Twitter_1000.dropna()"
   ]
  },
  {
   "cell_type": "code",
   "execution_count": 20,
   "id": "ca2e4dab",
   "metadata": {},
   "outputs": [
    {
     "name": "stdout",
     "output_type": "stream",
     "text": [
      "(987, 6)\n"
     ]
    }
   ],
   "source": [
    "print(Twitter_1000.shape)"
   ]
  },
  {
   "cell_type": "code",
   "execution_count": 21,
   "id": "8c523723",
   "metadata": {},
   "outputs": [
    {
     "data": {
      "text/html": [
       "<div>\n",
       "<style scoped>\n",
       "    .dataframe tbody tr th:only-of-type {\n",
       "        vertical-align: middle;\n",
       "    }\n",
       "\n",
       "    .dataframe tbody tr th {\n",
       "        vertical-align: top;\n",
       "    }\n",
       "\n",
       "    .dataframe thead th {\n",
       "        text-align: right;\n",
       "    }\n",
       "</style>\n",
       "<table border=\"1\" class=\"dataframe\">\n",
       "  <thead>\n",
       "    <tr style=\"text-align: right;\">\n",
       "      <th></th>\n",
       "      <th>twitter_username</th>\n",
       "      <th>name</th>\n",
       "    </tr>\n",
       "  </thead>\n",
       "  <tbody>\n",
       "    <tr>\n",
       "      <th>0</th>\n",
       "      <td>BarackObama</td>\n",
       "      <td>BarackObama</td>\n",
       "    </tr>\n",
       "    <tr>\n",
       "      <th>1</th>\n",
       "      <td>justinbieber</td>\n",
       "      <td>Justin Bieber</td>\n",
       "    </tr>\n",
       "    <tr>\n",
       "      <th>2</th>\n",
       "      <td>katyperry</td>\n",
       "      <td>KATY PERRY</td>\n",
       "    </tr>\n",
       "    <tr>\n",
       "      <th>3</th>\n",
       "      <td>rihanna</td>\n",
       "      <td>Rihanna</td>\n",
       "    </tr>\n",
       "    <tr>\n",
       "      <th>4</th>\n",
       "      <td>Cristiano</td>\n",
       "      <td>Cristiano Ronaldo</td>\n",
       "    </tr>\n",
       "    <tr>\n",
       "      <th>...</th>\n",
       "      <td>...</td>\n",
       "      <td>...</td>\n",
       "    </tr>\n",
       "    <tr>\n",
       "      <th>982</th>\n",
       "      <td>MsLaurenLondon</td>\n",
       "      <td>Lauren London</td>\n",
       "    </tr>\n",
       "    <tr>\n",
       "      <th>983</th>\n",
       "      <td>wandaicardi</td>\n",
       "      <td>Wanda Icardi</td>\n",
       "    </tr>\n",
       "    <tr>\n",
       "      <th>984</th>\n",
       "      <td>S1dharthM</td>\n",
       "      <td>Sidharth Malhotra</td>\n",
       "    </tr>\n",
       "    <tr>\n",
       "      <th>985</th>\n",
       "      <td>superstarrajini</td>\n",
       "      <td>Rajinikanth</td>\n",
       "    </tr>\n",
       "    <tr>\n",
       "      <th>986</th>\n",
       "      <td>MikeVick</td>\n",
       "      <td>Mike Vick</td>\n",
       "    </tr>\n",
       "  </tbody>\n",
       "</table>\n",
       "<p>987 rows × 2 columns</p>\n",
       "</div>"
      ],
      "text/plain": [
       "    twitter_username               name\n",
       "0        BarackObama        BarackObama\n",
       "1       justinbieber      Justin Bieber\n",
       "2          katyperry         KATY PERRY\n",
       "3            rihanna            Rihanna\n",
       "4          Cristiano  Cristiano Ronaldo\n",
       "..               ...                ...\n",
       "982   MsLaurenLondon      Lauren London\n",
       "983      wandaicardi       Wanda Icardi\n",
       "984        S1dharthM  Sidharth Malhotra\n",
       "985  superstarrajini        Rajinikanth\n",
       "986         MikeVick          Mike Vick\n",
       "\n",
       "[987 rows x 2 columns]"
      ]
     },
     "execution_count": 21,
     "metadata": {},
     "output_type": "execute_result"
    }
   ],
   "source": [
    "# Our next task is to drop any columns with missing data\n",
    "Twitter_1000.dropna(axis=1)"
   ]
  },
  {
   "cell_type": "code",
   "execution_count": 22,
   "id": "9a187fb7",
   "metadata": {},
   "outputs": [
    {
     "name": "stdout",
     "output_type": "stream",
     "text": [
      "(987, 6)\n"
     ]
    }
   ],
   "source": [
    "print(Twitter_1000.shape)"
   ]
  },
  {
   "cell_type": "code",
   "execution_count": null,
   "id": "86517ddb",
   "metadata": {},
   "outputs": [],
   "source": []
  }
 ],
 "metadata": {
  "kernelspec": {
   "display_name": "Python 3 (ipykernel)",
   "language": "python",
   "name": "python3"
  },
  "language_info": {
   "codemirror_mode": {
    "name": "ipython",
    "version": 3
   },
   "file_extension": ".py",
   "mimetype": "text/x-python",
   "name": "python",
   "nbconvert_exporter": "python",
   "pygments_lexer": "ipython3",
   "version": "3.9.7"
  }
 },
 "nbformat": 4,
 "nbformat_minor": 5
}
